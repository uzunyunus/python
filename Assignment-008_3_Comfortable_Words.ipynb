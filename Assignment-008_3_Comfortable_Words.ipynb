{
 "metadata": {
  "language_info": {
   "codemirror_mode": {
    "name": "ipython",
    "version": 3
   },
   "file_extension": ".py",
   "mimetype": "text/x-python",
   "name": "python",
   "nbconvert_exporter": "python",
   "pygments_lexer": "ipython3",
   "version": "3.9.2-final"
  },
  "orig_nbformat": 2,
  "kernelspec": {
   "name": "python392jvsc74a57bd046f4c0da1529853cc4bd591e7c836f32aa74065b1d4bf61852c5db2d35a435e1",
   "display_name": "Python 3.9.2 64-bit"
  },
  "metadata": {
   "interpreter": {
    "hash": "46f4c0da1529853cc4bd591e7c836f32aa74065b1d4bf61852c5db2d35a435e1"
   }
  }
 },
 "nbformat": 4,
 "nbformat_minor": 2,
 "cells": [
  {
   "cell_type": "code",
   "execution_count": 6,
   "metadata": {},
   "outputs": [
    {
     "output_type": "stream",
     "name": "stdout",
     "text": [
      "True\nTrue\nYour word is comfortable word.\n"
     ]
    }
   ],
   "source": [
    "left_hand = {'x', 'q', 'd', 'w', 'g', 'b', 'v', 's', 'c', 'e', 'a', 'z', 'r', 'f', 't'}\n",
    "right_hand = {'p', 'ö', 'ğ', 'o', 'h', 'k', 'i', 'n', 'ş', 'y', 'j', 'ü', 'u', 'ı', 'l', 'm', 'ç'}\n",
    "word = set(input(\"input only one word\"))\n",
    "leftcheck = bool(word.intersection(left_hand))\n",
    "rightcheck = bool(word.intersection(right_hand))\n",
    "print(leftcheck)\n",
    "print(rightcheck)\n",
    "if leftcheck and rightcheck :\n",
    "    print(\"Your word is comfortable word.\")\n",
    "else: \n",
    "    print(\"Your word is uncomfortable word.\")"
   ]
  },
  {
   "cell_type": "code",
   "execution_count": null,
   "metadata": {},
   "outputs": [],
   "source": [
    "left_hand = set(\"qwertasdfgzxcvb\")\n",
    "right_hand = set(\"yuıopğühjklşinmöç\")\n",
    "print(left_hand)\n",
    "print(right_hand)"
   ]
  },
  {
   "cell_type": "code",
   "execution_count": null,
   "metadata": {},
   "outputs": [],
   "source": [
    "left_hand = \"qwertasdfgzxcvb\"\n",
    "right_hand = \"yuıopğühjklşinmöç\"\n",
    "word = input(\"input only one word\")\n",
    "word2 = (set(word) & set(left_hand)) & set(right_hand)\n",
    "print(word2)\n",
    "word3 = word2 & set(right_hand)\n",
    "print(word3)\n",
    "if word2 & word3:\n",
    "    print(\"Your word is comfortable word.\")\n",
    "else:\n",
    "    print(\"Your word is uncomfortable word.\")"
   ]
  },
  {
   "cell_type": "code",
   "execution_count": null,
   "metadata": {},
   "outputs": [],
   "source": [
    "tr = \"şçöğüıŞÇÖĞÜİ\"\n",
    "\n",
    "parola = input(\"Sisteme giriş için bir parola belirleyin: \")\n",
    "\n",
    "if set(tr) & set(parola):\n",
    "    print(\"Parolanızda Türkçe harfler kullanmayın!\")\n",
    "\n",
    "else:\n",
    "    print(\"Parolanız kabul edildi!\")"
   ]
  },
  {
   "cell_type": "code",
   "execution_count": null,
   "metadata": {},
   "outputs": [],
   "source": []
  }
 ]
}