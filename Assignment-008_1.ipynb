{
 "metadata": {
  "language_info": {
   "codemirror_mode": {
    "name": "ipython",
    "version": 3
   },
   "file_extension": ".py",
   "mimetype": "text/x-python",
   "name": "python",
   "nbconvert_exporter": "python",
   "pygments_lexer": "ipython3",
   "version": "3.9.2-final"
  },
  "orig_nbformat": 2,
  "kernelspec": {
   "name": "python392jvsc74a57bd046f4c0da1529853cc4bd591e7c836f32aa74065b1d4bf61852c5db2d35a435e1",
   "display_name": "Python 3.9.2 64-bit"
  },
  "metadata": {
   "interpreter": {
    "hash": "46f4c0da1529853cc4bd591e7c836f32aa74065b1d4bf61852c5db2d35a435e1"
   }
  }
 },
 "nbformat": 4,
 "nbformat_minor": 2,
 "cells": [
  {
   "cell_type": "code",
   "execution_count": 1,
   "metadata": {},
   "outputs": [
    {
     "output_type": "stream",
     "name": "stdout",
     "text": [
      "the most frequent number is 3 and it was 4 times repeated\n"
     ]
    }
   ],
   "source": [
    "\t\n",
    "numbers = [1, 3, 7, 4, 3, 0, 3, 6, 3]\n",
    "most_frq_num = max(set(numbers), key = numbers.count)\n",
    "frequency = numbers.count(most_frq_num)\n",
    "print(f\"the most frequent number is {most_frq_num} and it was {frequency} times repeated\")"
   ]
  },
  {
   "cell_type": "code",
   "execution_count": 9,
   "metadata": {},
   "outputs": [
    {
     "output_type": "stream",
     "name": "stdout",
     "text": [
      "the most frequent number is 0 and it was 4 times repeated\n"
     ]
    }
   ],
   "source": [
    "numbers = [1,1,1,1,0,0,0, 4, 3, 7, 3, 0, 3, 6, 3, 4, 4, 4]\n",
    "most_frq_num = max(set(numbers), key = numbers.count)\n",
    "frequency = numbers.count(most_frq_num)\n",
    "print(f\"the most frequent number is {most_frq_num} and it was {frequency} times repeated\")"
   ]
  },
  {
   "cell_type": "code",
   "execution_count": null,
   "metadata": {},
   "outputs": [],
   "source": []
  }
 ]
}