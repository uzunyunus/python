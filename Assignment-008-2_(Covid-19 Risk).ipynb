{
 "metadata": {
  "language_info": {
   "codemirror_mode": {
    "name": "ipython",
    "version": 3
   },
   "file_extension": ".py",
   "mimetype": "text/x-python",
   "name": "python",
   "nbconvert_exporter": "python",
   "pygments_lexer": "ipython3",
   "version": "3.9.2"
  },
  "orig_nbformat": 2,
  "kernelspec": {
   "name": "python392jvsc74a57bd046f4c0da1529853cc4bd591e7c836f32aa74065b1d4bf61852c5db2d35a435e1",
   "display_name": "Python 3.9.2 64-bit"
  },
  "metadata": {
   "interpreter": {
    "hash": "46f4c0da1529853cc4bd591e7c836f32aa74065b1d4bf61852c5db2d35a435e1"
   }
  }
 },
 "nbformat": 4,
 "nbformat_minor": 2,
 "cells": [
  {
   "cell_type": "code",
   "execution_count": 13,
   "metadata": {},
   "outputs": [
    {
     "output_type": "stream",
     "name": "stdout",
     "text": [
      "You are in risky group\n"
     ]
    }
   ],
   "source": [
    "age = bool(input(\"Are you a cigarette addict older than 75 years old?\\n\\\n",
    "Write yes for approval and FOR NO only press enter \"))\n",
    "chronic = bool(input(\"Do you have a severe chronic disease?\\n\\\n",
    "Write yes for approval and FOR NO only press enter \"))\n",
    "immune = bool(input(\"Is your immune system too weak?\\n\\\n",
    "Write yes for approval and FOR NO only press enter \"))\n",
    "risk = age and chronic and immune\n",
    "if risk :\n",
    "    print(\"You are in risky group\")\n",
    "else:\n",
    "    print(\"You are not in risky group\")"
   ]
  },
  {
   "cell_type": "code",
   "execution_count": null,
   "metadata": {},
   "outputs": [],
   "source": []
  }
 ]
}