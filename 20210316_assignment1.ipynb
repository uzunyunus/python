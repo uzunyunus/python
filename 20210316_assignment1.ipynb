{
 "metadata": {
  "language_info": {
   "codemirror_mode": {
    "name": "ipython",
    "version": 3
   },
   "file_extension": ".py",
   "mimetype": "text/x-python",
   "name": "python",
   "nbconvert_exporter": "python",
   "pygments_lexer": "ipython3",
   "version": "3.9.2-final"
  },
  "orig_nbformat": 2,
  "kernelspec": {
   "name": "python392jvsc74a57bd046f4c0da1529853cc4bd591e7c836f32aa74065b1d4bf61852c5db2d35a435e1",
   "display_name": "Python 3.9.2 64-bit"
  },
  "metadata": {
   "interpreter": {
    "hash": "46f4c0da1529853cc4bd591e7c836f32aa74065b1d4bf61852c5db2d35a435e1"
   }
  }
 },
 "nbformat": 4,
 "nbformat_minor": 2,
 "cells": [
  {
   "cell_type": "code",
   "execution_count": 1,
   "metadata": {},
   "outputs": [
    {
     "output_type": "stream",
     "name": "stdout",
     "text": [
      "1490.0\n"
     ]
    }
   ],
   "source": [
    "faiz = 0.07\n",
    "sure = int(input(\"Gün cinsinden değer giriniz!\"))\n",
    "ana_para = 1000\n",
    "total = ana_para * (1 + faiz * sure)\n",
    "print(total)"
   ]
  },
  {
   "cell_type": "code",
   "execution_count": 4,
   "metadata": {},
   "outputs": [
    {
     "output_type": "stream",
     "name": "stdout",
     "text": [
      "Your new deposit is  1718.19 $\n"
     ]
    }
   ],
   "source": [
    "daily_profit = int(input(\"Enter Daily Profit: \"))\n",
    "time = int(input(\"How many days: \"))\n",
    "deposit = int(input(\"How muchis your deposit?: \"))\n",
    "time_zero = 0\n",
    "while time_zero <= time:\n",
    "  deposit = deposit*(100 + daily_profit)/100\n",
    "  time_zero += 1\n",
    "print (\"Your new deposit is \", \"%.2f\" % deposit, \"$\")"
   ]
  },
  {
   "cell_type": "code",
   "execution_count": 9,
   "metadata": {},
   "outputs": [
    {
     "output_type": "stream",
     "name": "stdout",
     "text": [
      "1605.7814764784307\n"
     ]
    }
   ],
   "source": [
    "faiz = 0.07\n",
    "sure = int(input(\"Gün cinsinden değer giriniz!\"))\n",
    "ana_para = 1000\n",
    "total = ana_para * (1 + faiz) ** sure\n",
    "print(total)\n"
   ]
  },
  {
   "cell_type": "code",
   "execution_count": 1,
   "metadata": {},
   "outputs": [
    {
     "output_type": "execute_result",
     "data": {
      "text/plain": [
       "1605.78147647843"
      ]
     },
     "metadata": {},
     "execution_count": 1
    }
   ],
   "source": [
    "# hoca çözümü\n",
    "para = 1000\n",
    "para = para * 0.07 + para  # pazartesi\n",
    "para += para * 0.07  # salı\n",
    "para += para * 0.07  # çarşamba\n",
    "para += para * 0.07  # Perşembe\n",
    "para += para * 0.07  # Cuma\n",
    "para += para * 0.07  # cumartesi\n",
    "para += para * 0.07  # pazar\n",
    "para"
   ]
  },
  {
   "cell_type": "code",
   "execution_count": 15,
   "metadata": {},
   "outputs": [
    {
     "output_type": "stream",
     "name": "stdout",
     "text": [
      "32.0  Celcius is  89.6  Fahrenheit.\n"
     ]
    }
   ],
   "source": [
    "# F = 9/5  C  + 32\n",
    "celcius = float(input(\"Enter temperature in celsius: \"))\n",
    "fahreneit = 9 / 5 * celcius + 32\n",
    "print(celcius, \" Celcius is \", fahreneit, \" Fahrenheit.\")"
   ]
  },
  {
   "cell_type": "code",
   "execution_count": 12,
   "metadata": {},
   "outputs": [
    {
     "output_type": "stream",
     "name": "stdout",
     "text": [
      "32.00 Celsius is: 89.60 Fahrenheit\n"
     ]
    }
   ],
   "source": [
    "celsius = float(input(\"Enter temperature in celsius: \"))\n",
    "fahrenheit = (celsius * 9/5) + 32\n",
    "print('%.2f Celsius is: %0.2f Fahrenheit' %(celsius, fahrenheit))"
   ]
  },
  {
   "cell_type": "code",
   "execution_count": 18,
   "metadata": {},
   "outputs": [
    {
     "output_type": "stream",
     "name": "stdout",
     "text": [
      "90.00 km is: 55.92 miles\n"
     ]
    }
   ],
   "source": [
    "# Kilometre cinsinden olan bir uzunluğu mile dönüştürmek için ilgili değer 1,609344'e bölünmelidir.\n",
    "km = float(input(\"Enter distance in km: \"))\n",
    "mil = km / 1.609344\n",
    "print('%.2f km is: %0.2f miles' %(km, mil))"
   ]
  },
  {
   "cell_type": "code",
   "execution_count": 8,
   "metadata": {},
   "outputs": [
    {
     "output_type": "stream",
     "name": "stdout",
     "text": [
      "True\n"
     ]
    }
   ],
   "source": [
    "age = bool(input(\"Are you a cigarette addict older than 75 years old?\"))\n",
    "chronic = bool(input(\"Do you have a severe chronic disease?\"))\n",
    "immune = bool(input(\"Is your immune system too weak?\"))\n",
    "risk = age and chronic and immune\n",
    "print(risk)\n"
   ]
  },
  {
   "cell_type": "code",
   "execution_count": null,
   "metadata": {},
   "outputs": [],
   "source": [
    "if risk = True :\n",
    "    print(\"There is a risk of death\")\n",
    "else :\n",
    "    print(\"There is not a risk of death\")"
   ]
  },
  {
   "cell_type": "code",
   "execution_count": 11,
   "metadata": {},
   "outputs": [
    {
     "output_type": "stream",
     "name": "stdout",
     "text": [
      "Total Profit is 13130 dollars.\n"
     ]
    }
   ],
   "source": [
    "sales = {\n",
    "  \"cost_value\": 31.87,\n",
    "  \"sell_value\": 45.00,\n",
    "  \"inventory\": 1000\n",
    "} \n",
    "total_profit = (sales[\"sell_value\"] - sales[\"cost_value\"])*1000\n",
    "print(\"Total Profit is %.0f dollars.\"%(total_profit))"
   ]
  },
  {
   "cell_type": "code",
   "execution_count": 18,
   "metadata": {},
   "outputs": [
    {
     "output_type": "stream",
     "name": "stdout",
     "text": [
      "Your amount is $3.70\n"
     ]
    }
   ],
   "source": [
    "amount = input(\"Input an amount.\")\n",
    "print(\"Your amount is $%.2f\"%(float(amount)))\n"
   ]
  },
  {
   "cell_type": "code",
   "execution_count": null,
   "metadata": {},
   "outputs": [],
   "source": []
  }
 ]
}